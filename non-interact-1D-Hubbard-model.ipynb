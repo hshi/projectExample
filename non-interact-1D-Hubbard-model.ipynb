{
 "cells": [
  {
   "cell_type": "code",
   "execution_count": 2,
   "metadata": {},
   "outputs": [
    {
     "name": "stdout",
     "output_type": "stream",
     "text": [
      "[[ 0. -1.  0.  0.]\n",
      " [-1.  0. -1.  0.]\n",
      " [ 0. -1.  0. -1.]\n",
      " [ 0.  0. -1.  0.]]\n"
     ]
    }
   ],
   "source": [
    "import numpy as np\n",
    "L = 4;\n",
    "Nup = 3;\n",
    "Ndn = 2;\n",
    "K = np.zeros((L,L));\n",
    "for i in range(L-1):\n",
    "    K[i, i+1] = -1\n",
    "    K[i+1, i] = -1\n",
    "print( K)"
   ]
  },
  {
   "cell_type": "code",
   "execution_count": 30,
   "metadata": {},
   "outputs": [
    {
     "name": "stdout",
     "output_type": "stream",
     "text": [
      "Ground State Wave function for Spin up:\n",
      "[[-0.37174803  0.60150096 -0.60150096]\n",
      " [ 0.60150096 -0.37174803 -0.37174803]\n",
      " [-0.60150096 -0.37174803  0.37174803]\n",
      " [ 0.37174803  0.60150096  0.60150096]]\n",
      "Ground State Wave function for Spin down:\n",
      "[[-0.37174803  0.60150096]\n",
      " [ 0.60150096 -0.37174803]\n",
      " [-0.60150096 -0.37174803]\n",
      " [ 0.37174803  0.60150096]]\n"
     ]
    }
   ],
   "source": [
    "w,v = np.linalg.eig(K)\n",
    "idx = w.argsort()[::-1]   \n",
    "w = w[idx]\n",
    "v = v[:,idx]\n",
    "print(\"Ground State Wave function for Spin up:\")\n",
    "print(v[:, 0:Nup])\n",
    "print(\"Ground State Wave function for Spin down:\")\n",
    "print(v[:, 0:Ndn])"
   ]
  },
  {
   "cell_type": "code",
   "execution_count": 33,
   "metadata": {},
   "outputs": [
    {
     "name": "stdout",
     "output_type": "stream",
     "text": [
      "Ground State Wave function for Spin up:\n",
      "[[0.37175303 0.37174401 0.37174183]\n",
      " [0.60150404 0.60149847 0.60149712]\n",
      " [0.60149787 0.60150344 0.60150479]\n",
      " [0.37174304 0.37175206 0.37175424]]\n",
      "Ground State Wave function for Spin down:\n",
      "[[0.37173983 0.37173718]\n",
      " [0.60149588 0.60149425]\n",
      " [0.60150603 0.60150766]\n",
      " [0.37175624 0.37175889]]\n"
     ]
    }
   ],
   "source": [
    "import scipy\n",
    "from sklearn.preprocessing import normalize\n",
    "tau = 0.01\n",
    "M = 1000\n",
    "exp_minus_tau_K = scipy.linalg.expm(-tau*K) \n",
    "phiT_up = np.random.rand(L,Nup)\n",
    "phiT_dn = np.random.rand(L,Ndn)\n",
    "for i in range(M):\n",
    "    phiT_up = exp_minus_tau_K.dot( phiT_up )\n",
    "    phiT_dn = exp_minus_tau_K.dot( phiT_dn )\n",
    "phi0_up = normalize(phiT_up, axis=0, norm='l2')\n",
    "phi0_dn = normalize(phiT_dn, axis=0, norm='l2')\n",
    "print(\"Ground State Wave function for Spin up:\")\n",
    "print(phi0_up)\n",
    "print(\"Ground State Wave function for Spin down:\")\n",
    "print(phi0_dn)"
   ]
  },
  {
   "cell_type": "code",
   "execution_count": 34,
   "metadata": {},
   "outputs": [
    {
     "name": "stdout",
     "output_type": "stream",
     "text": [
      "Ground State Wave function for Spin up:\n",
      "[[-0.37175303 -0.60149875  0.60144567]\n",
      " [-0.60150404 -0.37174249 -0.37166056]\n",
      " [-0.60149787  0.37175358 -0.3718355 ]\n",
      " [-0.37174304  0.60150316  0.60155623]]\n",
      "Ground State Wave function for Spin down:\n",
      "[[-0.37173983 -0.60149827]\n",
      " [-0.60149588 -0.37176103]\n",
      " [-0.60150603  0.37173504]\n",
      " [-0.37175624  0.60150364]]\n"
     ]
    }
   ],
   "source": [
    "phi0_up, r = np.linalg.qr(phiT_up)\n",
    "phi0_dn, r = np.linalg.qr(phiT_dn)\n",
    "print(\"Ground State Wave function for Spin up:\")\n",
    "print(phi0_up)\n",
    "print(\"Ground State Wave function for Spin down:\")\n",
    "print(phi0_dn)"
   ]
  },
  {
   "cell_type": "code",
   "execution_count": null,
   "metadata": {
    "collapsed": true
   },
   "outputs": [],
   "source": []
  }
 ],
 "metadata": {
  "kernelspec": {
   "display_name": "Python 3",
   "language": "python",
   "name": "python3"
  },
  "language_info": {
   "codemirror_mode": {
    "name": "ipython",
    "version": 3
   },
   "file_extension": ".py",
   "mimetype": "text/x-python",
   "name": "python",
   "nbconvert_exporter": "python",
   "pygments_lexer": "ipython3",
   "version": "3.6.5"
  }
 },
 "nbformat": 4,
 "nbformat_minor": 2
}
